{
  "nbformat": 4,
  "nbformat_minor": 0,
  "metadata": {
    "colab": {
      "name": "MNIST.ipynb",
      "provenance": [],
      "collapsed_sections": []
    },
    "kernelspec": {
      "name": "python3",
      "display_name": "Python 3"
    }
  },
  "cells": [
    {
      "cell_type": "markdown",
      "metadata": {
        "id": "CWPxq2JobqZf",
        "colab_type": "text"
      },
      "source": [
        "# **Use a neural network to classify images of clothing.**"
      ]
    },
    {
      "cell_type": "markdown",
      "metadata": {
        "id": "s1DV_W-oifiW",
        "colab_type": "text"
      },
      "source": [
        "https://www.tensorflow.org/tutorials/keras/classification/"
      ]
    },
    {
      "cell_type": "code",
      "metadata": {
        "id": "Rq3GnG1Ob_kK",
        "colab_type": "code",
        "colab": {
          "base_uri": "https://localhost:8080/",
          "height": 80
        },
        "outputId": "a68fc0b3-19a6-4982-a781-ff96b510db70"
      },
      "source": [
        "from __future__ import absolute_import, division, print_function, unicode_literals\n",
        "\n",
        "# TensorFlow and tf.keras\n",
        "import tensorflow as tf\n",
        "from tensorflow import keras\n",
        "\n",
        "# libraries\n",
        "import numpy as np\n",
        "import matplotlib.pyplot as plt\n",
        "\n",
        "print(tf.__version__)"
      ],
      "execution_count": 3,
      "outputs": [
        {
          "output_type": "display_data",
          "data": {
            "text/html": [
              "<p style=\"color: red;\">\n",
              "The default version of TensorFlow in Colab will soon switch to TensorFlow 2.x.<br>\n",
              "We recommend you <a href=\"https://www.tensorflow.org/guide/migrate\" target=\"_blank\">upgrade</a> now \n",
              "or ensure your notebook will continue to use TensorFlow 1.x via the <code>%tensorflow_version 1.x</code> magic:\n",
              "<a href=\"https://colab.research.google.com/notebooks/tensorflow_version.ipynb\" target=\"_blank\">more info</a>.</p>\n"
            ],
            "text/plain": [
              "<IPython.core.display.HTML object>"
            ]
          },
          "metadata": {
            "tags": []
          }
        },
        {
          "output_type": "stream",
          "text": [
            "1.15.0\n"
          ],
          "name": "stdout"
        }
      ]
    },
    {
      "cell_type": "markdown",
      "metadata": {
        "id": "zUiaH1zFefdc",
        "colab_type": "text"
      },
      "source": [
        "Import the fashion MNIST dataset.\n",
        "Contains 60 000 images to train the network and 10 000 images to test the network.\n",
        "\n",
        "You can access the dataset directly from tensorflow."
      ]
    },
    {
      "cell_type": "code",
      "metadata": {
        "id": "sjUUAZqoe9UG",
        "colab_type": "code",
        "colab": {
          "base_uri": "https://localhost:8080/",
          "height": 153
        },
        "outputId": "9ff623d9-c6fb-4bc4-f459-19c0b3bbb5cd"
      },
      "source": [
        "fashion_mnist = keras.datasets.fashion_mnist\n",
        "\n",
        "(train_images, train_labels), (test_images, test_labels) = fashion_mnist.load_data()"
      ],
      "execution_count": 4,
      "outputs": [
        {
          "output_type": "stream",
          "text": [
            "Downloading data from https://storage.googleapis.com/tensorflow/tf-keras-datasets/train-labels-idx1-ubyte.gz\n",
            "32768/29515 [=================================] - 0s 0us/step\n",
            "Downloading data from https://storage.googleapis.com/tensorflow/tf-keras-datasets/train-images-idx3-ubyte.gz\n",
            "26427392/26421880 [==============================] - 0s 0us/step\n",
            "Downloading data from https://storage.googleapis.com/tensorflow/tf-keras-datasets/t10k-labels-idx1-ubyte.gz\n",
            "8192/5148 [===============================================] - 0s 0us/step\n",
            "Downloading data from https://storage.googleapis.com/tensorflow/tf-keras-datasets/t10k-images-idx3-ubyte.gz\n",
            "4423680/4422102 [==============================] - 0s 0us/step\n"
          ],
          "name": "stdout"
        }
      ]
    },
    {
      "cell_type": "markdown",
      "metadata": {
        "id": "XNn-Y_bYhVuC",
        "colab_type": "text"
      },
      "source": [
        "Loading the dataset returns four numpy arrays.\n",
        "  - train_images and train_labels are the training set; the data the model uses to learn.\n",
        "    - the model is tested against the test set, the test_images and test_labels arrays"
      ]
    },
    {
      "cell_type": "markdown",
      "metadata": {
        "id": "YwNThmpoh3iF",
        "colab_type": "text"
      },
      "source": [
        "The images are 28*28 numpy arrays with pixel values ranging from 0 to 255. The labels are an array of integers ranging from 0 to 9."
      ]
    },
    {
      "cell_type": "markdown",
      "metadata": {
        "id": "D4nil6Bxo8e7",
        "colab_type": "text"
      },
      "source": [
        "{0: T-shirt/ top, 1:Trouser,2:Pullover,3:Dress,4:Coat,5:Sandal,6:Shirt,7:Sneaker,8:Bag,9:Ankle Boot}"
      ]
    },
    {
      "cell_type": "code",
      "metadata": {
        "id": "Kyb73Ie0pXDq",
        "colab_type": "code",
        "colab": {}
      },
      "source": [
        "class_names = ['T-shirt/top', 'Trouser', 'Pullover', 'Dress', 'Coat',\n",
        "               'Sandal','Shirt','Sneaker','Bag','Ankle Boot']"
      ],
      "execution_count": 0,
      "outputs": []
    },
    {
      "cell_type": "markdown",
      "metadata": {
        "id": "lDLUcLMsq-oY",
        "colab_type": "text"
      },
      "source": [
        "# **Explore the data**"
      ]
    },
    {
      "cell_type": "markdown",
      "metadata": {
        "id": "Mf-4yIH1pxaW",
        "colab_type": "text"
      },
      "source": [
        "Explore the format of the dataset. The following shows there are 60 000 images in the training set with each image represented as 28*28 pixels"
      ]
    },
    {
      "cell_type": "code",
      "metadata": {
        "id": "V5oKSVTrqJFn",
        "colab_type": "code",
        "colab": {
          "base_uri": "https://localhost:8080/",
          "height": 34
        },
        "outputId": "9c0a072c-4c68-4ae6-e90e-2e52c0763fbb"
      },
      "source": [
        "train_images.shape"
      ],
      "execution_count": 6,
      "outputs": [
        {
          "output_type": "execute_result",
          "data": {
            "text/plain": [
              "(60000, 28, 28)"
            ]
          },
          "metadata": {
            "tags": []
          },
          "execution_count": 6
        }
      ]
    },
    {
      "cell_type": "markdown",
      "metadata": {
        "id": "tVGhseMdrGLx",
        "colab_type": "text"
      },
      "source": [
        ""
      ]
    },
    {
      "cell_type": "markdown",
      "metadata": {
        "id": "3gAV1B97qXkY",
        "colab_type": "text"
      },
      "source": [
        "Check that there are 60 000 labels in the training set"
      ]
    },
    {
      "cell_type": "code",
      "metadata": {
        "id": "kvxstiy4qe1T",
        "colab_type": "code",
        "colab": {
          "base_uri": "https://localhost:8080/",
          "height": 34
        },
        "outputId": "2062aef6-f836-46d2-a75e-ff5fecb50b8c"
      },
      "source": [
        "len(train_labels)"
      ],
      "execution_count": 6,
      "outputs": [
        {
          "output_type": "execute_result",
          "data": {
            "text/plain": [
              "60000"
            ]
          },
          "metadata": {
            "tags": []
          },
          "execution_count": 6
        }
      ]
    },
    {
      "cell_type": "markdown",
      "metadata": {
        "id": "M8F0LiO4qpsh",
        "colab_type": "text"
      },
      "source": [
        "See that each label is an integer between 0 and 9"
      ]
    },
    {
      "cell_type": "code",
      "metadata": {
        "id": "FK2zqJcTquvW",
        "colab_type": "code",
        "colab": {
          "base_uri": "https://localhost:8080/",
          "height": 34
        },
        "outputId": "b3cce380-e057-4b1f-cb22-6db151c7c2d5"
      },
      "source": [
        "train_labels"
      ],
      "execution_count": 7,
      "outputs": [
        {
          "output_type": "execute_result",
          "data": {
            "text/plain": [
              "array([9, 0, 0, ..., 3, 0, 5], dtype=uint8)"
            ]
          },
          "metadata": {
            "tags": []
          },
          "execution_count": 7
        }
      ]
    },
    {
      "cell_type": "markdown",
      "metadata": {
        "id": "8vjKCRlvrLO5",
        "colab_type": "text"
      },
      "source": [
        "# **Preprocess the data**"
      ]
    },
    {
      "cell_type": "markdown",
      "metadata": {
        "id": "Ph4jVhCgsCuy",
        "colab_type": "text"
      },
      "source": [
        "The data must be preprocessed before training the network. By inspevting the first image in the training set, you can see the pixel values fall in the range of 0 to 255"
      ]
    },
    {
      "cell_type": "code",
      "metadata": {
        "id": "yISSG8olthg0",
        "colab_type": "code",
        "colab": {
          "base_uri": "https://localhost:8080/",
          "height": 265
        },
        "outputId": "86b9cff8-f983-4ad2-afa5-d6b969398f1e"
      },
      "source": [
        "plt.figure()\n",
        "plt.imshow(train_images[0])\n",
        "plt.colorbar()\n",
        "plt.grid(False)\n",
        "plt.show()"
      ],
      "execution_count": 7,
      "outputs": [
        {
          "output_type": "display_data",
          "data": {
            "image/png": "[encoded data removed]",
            "text/plain": [
              "<Figure size 432x288 with 2 Axes>"
            ]
          },
          "metadata": {
            "tags": []
          }
        }
      ]
    },
    {
      "cell_type": "markdown",
      "metadata": {
        "id": "l0CjONgAtzko",
        "colab_type": "text"
      },
      "source": [
        "Before being fed into a neural network the values must be scaled to a range between 0 and 1.\n",
        "Therefore divide the values by 255."
      ]
    },
    {
      "cell_type": "code",
      "metadata": {
        "id": "zYmH2_mauCdf",
        "colab_type": "code",
        "colab": {}
      },
      "source": [
        "train_images = train_images / 255.0\n",
        "\n",
        "test_images = test_images / 255"
      ],
      "execution_count": 0,
      "outputs": []
    },
    {
      "cell_type": "markdown",
      "metadata": {
        "id": "RAF885TJuQZ0",
        "colab_type": "text"
      },
      "source": [
        "Verify that the data is in the correct format. Display the first 25 images from the training set and display the class name below each image."
      ]
    },
    {
      "cell_type": "code",
      "metadata": {
        "id": "dApq2BNmwLcw",
        "colab_type": "code",
        "colab": {
          "base_uri": "https://localhost:8080/",
          "height": 589
        },
        "outputId": "f436b10a-ef59-4b20-872e-8550524cbe1c"
      },
      "source": [
        "plt.figure(figsize=(10,10))\n",
        "for i in range(25):\n",
        "  plt.subplot(5,5,i+1)\n",
        "  plt.xticks([])\n",
        "  plt.yticks([])\n",
        "  plt.grid(False)\n",
        "  plt.imshow(train_images[i], cmap=plt.cm.binary)\n",
        "  plt.xlabel(class_names[train_labels[i]])\n",
        "plt.show()"
      ],
      "execution_count": 9,
      "outputs": [
        {
          "output_type": "display_data",
          "data": {
            "image/png": "[encoded data removed]",
            "text/plain": [
              "<Figure size 720x720 with 25 Axes>"
            ]
          },
          "metadata": {
            "tags": []
          }
        }
      ]
    },
    {
      "cell_type": "markdown",
      "metadata": {
        "id": "ZURZz_FA0GK5",
        "colab_type": "text"
      },
      "source": [
        "# **Build the model**"
      ]
    },
    {
      "cell_type": "markdown",
      "metadata": {
        "id": "oeiYdWHV0LW_",
        "colab_type": "text"
      },
      "source": [
        "**Set up the layers**\n",
        "\n",
        "the basic building block of a neural network is the layer. Layers extarct representations from the data fed into them\n"
      ]
    },
    {
      "cell_type": "markdown",
      "metadata": {
        "id": "bruKzz052Fia",
        "colab_type": "text"
      },
      "source": [
        "Most of deep learning consists of chaining together simple layers. Most layers have parameters that are learned during training "
      ]
    },
    {
      "cell_type": "code",
      "metadata": {
        "id": "KecDHRJP2YCw",
        "colab_type": "code",
        "colab": {
          "base_uri": "https://localhost:8080/",
          "height": 88
        },
        "outputId": "139017c9-f07b-4fe9-9741-441ef808c30d"
      },
      "source": [
        "model = keras.Sequential([\n",
        "    keras.layers.Flatten(input_shape=(28,28)),\n",
        "    keras.layers.Dense(128, activation='relu'),\n",
        "    keras.layers.Dense(10, activation='softmax')\n",
        "])"
      ],
      "execution_count": 10,
      "outputs": [
        {
          "output_type": "stream",
          "text": [
            "WARNING:tensorflow:From /usr/local/lib/python3.6/dist-packages/tensorflow_core/python/ops/resource_variable_ops.py:1630: calling BaseResourceVariable.__init__ (from tensorflow.python.ops.resource_variable_ops) with constraint is deprecated and will be removed in a future version.\n",
            "Instructions for updating:\n",
            "If using Keras pass *_constraint arguments to layers.\n"
          ],
          "name": "stdout"
        }
      ]
    },
    {
      "cell_type": "markdown",
      "metadata": {
        "id": "PN5mxQyV3I2N",
        "colab_type": "text"
      },
      "source": [
        "the first layer in this model transforms the format of the images from a 2 dimensional array (28*28) to a 1 dimensional array of 784 pixels.\n",
        "\n",
        "The second layer is a fully connected neural layer with 128 nodes(neurons)\n",
        "\n",
        "The third layer is a 10 node softmax layer that returns an array of 10 probability scores that sum to 1. Each node contains a score that indicates the probability that the current image belongs to one of the ten classes"
      ]
    },
    {
      "cell_type": "markdown",
      "metadata": {
        "id": "uIYmJ9y0-7oR",
        "colab_type": "text"
      },
      "source": [
        "# **Compile the model**\n"
      ]
    },
    {
      "cell_type": "markdown",
      "metadata": {
        "id": "DLmCpSfQ_Feb",
        "colab_type": "text"
      },
      "source": [
        "Before the model is ready for training we need to add a few more settings.\n",
        "  - *loss function*: measures the accuracy of the model during training. We want minimise this function\n",
        "  -*Optimizer*: how the model is updated based on the data it sees and its loss function.\n",
        "  -*Metrics*: used to monitor the training and testing steps. The following example uses *accuracy*, the fraction of images that are correctly classified."
      ]
    },
    {
      "cell_type": "code",
      "metadata": {
        "id": "dUVAZJFLD6K9",
        "colab_type": "code",
        "colab": {}
      },
      "source": [
        "model.compile(optimizer='adam',\n",
        "              loss ='sparse_categorical_crossentropy',\n",
        "              metrics=['accuracy'])"
      ],
      "execution_count": 0,
      "outputs": []
    },
    {
      "cell_type": "markdown",
      "metadata": {
        "id": "nI30cBP1EdL-",
        "colab_type": "text"
      },
      "source": [
        "**Train the model**\n",
        "Training the neural network requires the following steps:\n",
        "  - feed the training data to the model\n",
        "  - model learns to associate images and     labels\n",
        "  - ask the model to make predictions        about a test\n",
        "  - verify that the predictions match        the labels from the test_labels array"
      ]
    },
    {
      "cell_type": "markdown",
      "metadata": {
        "id": "EwDfZxoSFxv2",
        "colab_type": "text"
      },
      "source": [
        "**Feed the model**\n",
        "call the model.fit method - fits the model to the training data"
      ]
    },
    {
      "cell_type": "code",
      "metadata": {
        "id": "v9fXnvYgF_yD",
        "colab_type": "code",
        "colab": {
          "base_uri": "https://localhost:8080/",
          "height": 391
        },
        "outputId": "ec2f083f-e821-4c96-c48a-fa14e329f44b"
      },
      "source": [
        "model.fit(train_images, train_labels, epochs=10)"
      ],
      "execution_count": 12,
      "outputs": [
        {
          "output_type": "stream",
          "text": [
            "Train on 60000 samples\n",
            "Epoch 1/10\n",
            "60000/60000 [==============================] - 4s 66us/sample - loss: 0.5009 - acc: 0.8239\n",
            "Epoch 2/10\n",
            "60000/60000 [==============================] - 4s 62us/sample - loss: 0.3727 - acc: 0.8663\n",
            "Epoch 3/10\n",
            "60000/60000 [==============================] - 4s 61us/sample - loss: 0.3344 - acc: 0.8778\n",
            "Epoch 4/10\n",
            "60000/60000 [==============================] - 4s 62us/sample - loss: 0.3131 - acc: 0.8849\n",
            "Epoch 5/10\n",
            "60000/60000 [==============================] - 4s 62us/sample - loss: 0.2929 - acc: 0.8920\n",
            "Epoch 6/10\n",
            "60000/60000 [==============================] - 4s 63us/sample - loss: 0.2797 - acc: 0.8953\n",
            "Epoch 7/10\n",
            "60000/60000 [==============================] - 4s 63us/sample - loss: 0.2678 - acc: 0.9007\n",
            "Epoch 8/10\n",
            "60000/60000 [==============================] - 4s 62us/sample - loss: 0.2572 - acc: 0.9047\n",
            "Epoch 9/10\n",
            "60000/60000 [==============================] - 4s 62us/sample - loss: 0.2463 - acc: 0.9088\n",
            "Epoch 10/10\n",
            "60000/60000 [==============================] - 4s 62us/sample - loss: 0.2393 - acc: 0.9099\n"
          ],
          "name": "stdout"
        },
        {
          "output_type": "execute_result",
          "data": {
            "text/plain": [
              "<tensorflow.python.keras.callbacks.History at 0x7f831bd82fd0>"
            ]
          },
          "metadata": {
            "tags": []
          },
          "execution_count": 12
        }
      ]
    },
    {
      "cell_type": "markdown",
      "metadata": {
        "id": "X07aUnR8Gf86",
        "colab_type": "text"
      },
      "source": [
        "This model reaches an accuracy of about 91%."
      ]
    },
    {
      "cell_type": "markdown",
      "metadata": {
        "id": "HrY0K7PkGnyF",
        "colab_type": "text"
      },
      "source": [
        "**Evaluate accuracy**\n",
        "Compare how the model performs on the  test dataset"
      ]
    },
    {
      "cell_type": "code",
      "metadata": {
        "id": "kItYff2-G0jm",
        "colab_type": "code",
        "colab": {
          "base_uri": "https://localhost:8080/",
          "height": 68
        },
        "outputId": "dfb2a4a1-d4e1-4e88-e33c-30454bc5616a"
      },
      "source": [
        "test_loss, test_accuracy = model.evaluate(test_images,test_labels, verbose=2)\n",
        "\n",
        "print('\\nTest accuracy:', test_accuracy)"
      ],
      "execution_count": 13,
      "outputs": [
        {
          "output_type": "stream",
          "text": [
            "10000/10000 - 0s - loss: 0.3598 - acc: 0.8750\n",
            "\n",
            "Test accuracy: 0.875\n"
          ],
          "name": "stdout"
        }
      ]
    },
    {
      "cell_type": "markdown",
      "metadata": {
        "id": "wHpzhZTVHX1c",
        "colab_type": "text"
      },
      "source": [
        "It turns out the accuracy on the test set is a little less than the accuracy on the training set. This gap represents overfitting.\n",
        "\n",
        "This occurs when the model performs worse on new, previously unseen data.\n",
        "\n",
        "An overfitted model memorizes the training data\n"
      ]
    },
    {
      "cell_type": "markdown",
      "metadata": {
        "id": "oITnAzU4JMuQ",
        "colab_type": "text"
      },
      "source": [
        "# **Make predictions**"
      ]
    },
    {
      "cell_type": "code",
      "metadata": {
        "id": "i8k5f2QsJTVD",
        "colab_type": "code",
        "colab": {}
      },
      "source": [
        "predictions = model.predict(test_images)"
      ],
      "execution_count": 0,
      "outputs": []
    },
    {
      "cell_type": "code",
      "metadata": {
        "id": "Gi-YDqGWJazE",
        "colab_type": "code",
        "colab": {
          "base_uri": "https://localhost:8080/",
          "height": 68
        },
        "outputId": "4ad6d93f-8dd9-44e8-c59f-a53b51b14185"
      },
      "source": [
        "predictions[0]\n"
      ],
      "execution_count": 15,
      "outputs": [
        {
          "output_type": "execute_result",
          "data": {
            "text/plain": [
              "array([6.1553618e-07, 3.9064561e-13, 2.3593019e-09, 3.3643800e-12,\n",
              "       1.9388740e-09, 2.6290545e-03, 7.2946582e-09, 4.9786028e-03,\n",
              "       1.0780776e-06, 9.9239069e-01], dtype=float32)"
            ]
          },
          "metadata": {
            "tags": []
          },
          "execution_count": 15
        }
      ]
    },
    {
      "cell_type": "markdown",
      "metadata": {
        "id": "ZX7TlTSrMvfC",
        "colab_type": "text"
      },
      "source": [
        "A prediction is an array of 10 numbers. They represent the models confidence that the image corresponds to each of the 10 different articles of cllothing.\n",
        "\n",
        "You can see which label has the highest confidence value"
      ]
    },
    {
      "cell_type": "code",
      "metadata": {
        "id": "hmIXj-tSNKHx",
        "colab_type": "code",
        "colab": {
          "base_uri": "https://localhost:8080/",
          "height": 34
        },
        "outputId": "3bf53318-8dde-43ec-bc0c-170ba2b83003"
      },
      "source": [
        "np.argmax(predictions[0])"
      ],
      "execution_count": 16,
      "outputs": [
        {
          "output_type": "execute_result",
          "data": {
            "text/plain": [
              "9"
            ]
          },
          "metadata": {
            "tags": []
          },
          "execution_count": 16
        }
      ]
    },
    {
      "cell_type": "markdown",
      "metadata": {
        "id": "A0m79hc6NTuH",
        "colab_type": "text"
      },
      "source": [
        "Therefore the model predicts that this image is an ankle boot.\n",
        "\n",
        "check this with the test label"
      ]
    },
    {
      "cell_type": "code",
      "metadata": {
        "id": "pLJC5RvQOPdZ",
        "colab_type": "code",
        "colab": {
          "base_uri": "https://localhost:8080/",
          "height": 34
        },
        "outputId": "4ec46fa9-64af-4e45-88df-fcba0fce9763"
      },
      "source": [
        "test_labels[0]"
      ],
      "execution_count": 22,
      "outputs": [
        {
          "output_type": "execute_result",
          "data": {
            "text/plain": [
              "9"
            ]
          },
          "metadata": {
            "tags": []
          },
          "execution_count": 22
        }
      ]
    },
    {
      "cell_type": "markdown",
      "metadata": {
        "id": "o6g9dFd2O1FT",
        "colab_type": "text"
      },
      "source": [
        "graph this to look at the full set of ten class predictions"
      ]
    },
    {
      "cell_type": "code",
      "metadata": {
        "id": "Wd2XrcW9O7lM",
        "colab_type": "code",
        "colab": {}
      },
      "source": [
        "def plot_image(i, predictions_array, true_label, img):\n",
        "  predictions_array, true_label, img = predictions_array, true_label[i], img[i]\n",
        "  plt.grid(False)\n",
        "  plt.xticks([])\n",
        "  plt.yticks([])\n",
        "\n",
        "  plt.imshow(img, cmap=plt.cm.binary)\n",
        "\n",
        "  predicted_label = np.argmax(predictions_array)\n",
        "  if predicted_label == true_label:\n",
        "    color = 'blue'\n",
        "  else:\n",
        "    color = 'red'\n",
        "\n",
        "  plt.xlabel(\"{} {:2.0f}% ({})\".format(class_names[predicted_label],\n",
        "                                100*np.max(predictions_array),\n",
        "                                class_names[true_label]),\n",
        "                                color = color)\n",
        "\n",
        "def plot_value_array(i, predictions_array, true_label):\n",
        "  predictions_array, true_label = predictions_array, true_label[i]\n",
        "  plt.grid(False)\n",
        "  plt.xticks(range(10))\n",
        "  plt.yticks([])\n",
        "  thisplot = plt.bar(range(10), predictions_array, color=\"#777777\")\n",
        "  plt.ylim([0,1])\n",
        "  predicted_label=np.argmax(predictions_array)\n",
        "\n",
        "  thisplot[predicted_label].set_color('red')\n",
        "  thisplot[true_label].set_color('blue')"
      ],
      "execution_count": 0,
      "outputs": []
    },
    {
      "cell_type": "markdown",
      "metadata": {
        "id": "PMS5TqFj__I0",
        "colab_type": "text"
      },
      "source": [
        "# **Verify Predictions**"
      ]
    },
    {
      "cell_type": "markdown",
      "metadata": {
        "id": "19ZueIwqFNX1",
        "colab_type": "text"
      },
      "source": [
        "With the model trained, you can use it to make predictions about some images.\n",
        "\n",
        "Looking at the 0th image, predictions and prediction array. Correct prediction labels are blue and incorrect prediction labels are red. The number gives the percentage for the predicted label"
      ]
    },
    {
      "cell_type": "code",
      "metadata": {
        "id": "sl8Wv4bYF2bu",
        "colab_type": "code",
        "colab": {
          "base_uri": "https://localhost:8080/",
          "height": 211
        },
        "outputId": "b75cf8cf-62fb-47c3-9e8d-ce065377edf6"
      },
      "source": [
        "i = 0\n",
        "plt.figure(figsize=(6,3))\n",
        "plt.subplot(1,2,1)\n",
        "plot_image(i,predictions[i], test_labels, test_images)\n",
        "plt.subplot(1,2,2)\n",
        "plot_value_array(i,predictions[i], test_labels)\n",
        "plt.show()"
      ],
      "execution_count": 23,
      "outputs": [
        {
          "output_type": "display_data",
          "data": {
            "image/png": "[encoded data removed]",
            "text/plain": [
              "<Figure size 432x216 with 2 Axes>"
            ]
          },
          "metadata": {
            "tags": []
          }
        }
      ]
    },
    {
      "cell_type": "code",
      "metadata": {
        "id": "JH_SvdhpJbxD",
        "colab_type": "code",
        "colab": {
          "base_uri": "https://localhost:8080/",
          "height": 211
        },
        "outputId": "c6097bbf-01a8-4c78-d199-727b81cb15a0"
      },
      "source": [
        "i = 9999\n",
        "plt.figure(figsize=(6,3))\n",
        "plt.subplot(1,2,1)\n",
        "plot_image(i,predictions[i], test_labels, test_images)\n",
        "plt.subplot(1,2,2)\n",
        "plot_value_array(i, predictions[i], test_labels)\n",
        "plt.show()"
      ],
      "execution_count": 32,
      "outputs": [
        {
          "output_type": "display_data",
          "data": {
            "image/png": "[encoded data removed]",
            "text/plain": [
              "<Figure size 432x216 with 2 Axes>"
            ]
          },
          "metadata": {
            "tags": []
          }
        }
      ]
    },
    {
      "cell_type": "markdown",
      "metadata": {
        "id": "5aM7p_CXLJXC",
        "colab_type": "text"
      },
      "source": [
        "Now plot several images with their predictions. Note the model can be wrong even when very confident.\n",
        "\n",
        "Plot the first *n* test images, their predicted labels and the true labels. Color correct predictions in blue and incorrect predictions in red."
      ]
    },
    {
      "cell_type": "code",
      "metadata": {
        "id": "8QygpkTJL-AV",
        "colab_type": "code",
        "colab": {
          "base_uri": "https://localhost:8080/",
          "height": 729
        },
        "outputId": "d9f8e6bb-ddd8-43cc-94f3-6304e88cef1d"
      },
      "source": [
        "num_rows = 5\n",
        "num_cols = 3\n",
        "num_images = num_rows*num_cols\n",
        "plt.figure(figsize=(2*2*num_cols, 2*num_rows))\n",
        "for i in range(num_images):\n",
        "  plt.subplot(num_rows, 2*num_cols, 2*i+1)\n",
        "  plot_image(i, predictions[i], test_labels, test_images)\n",
        "  plt.subplot(num_rows, 2*num_cols, 2*i+2)\n",
        "  plot_value_array(i, predictions[i], test_labels)\n",
        "plt.tight_layout()\n",
        "plt.show()"
      ],
      "execution_count": 33,
      "outputs": [
        {
          "output_type": "display_data",
          "data": {
            "image/png": "[encoded data removed]",
            "text/plain": [
              "<Figure size 864x720 with 30 Axes>"
            ]
          },
          "metadata": {
            "tags": []
          }
        }
      ]
    },
    {
      "cell_type": "markdown",
      "metadata": {
        "id": "WwnHmVBTNxMl",
        "colab_type": "text"
      },
      "source": [
        "# **Use the trained model**"
      ]
    },
    {
      "cell_type": "markdown",
      "metadata": {
        "id": "64z6-uSUN7BR",
        "colab_type": "text"
      },
      "source": [
        "Use the trained model to make a prediction about a single image"
      ]
    },
    {
      "cell_type": "code",
      "metadata": {
        "id": "PgF9lbVQOB6a",
        "colab_type": "code",
        "colab": {
          "base_uri": "https://localhost:8080/",
          "height": 34
        },
        "outputId": "62bb13e8-8706-4f3f-9d0a-c97908c65949"
      },
      "source": [
        "# grab an image from the test dataset\n",
        "img = test_images[1]\n",
        "\n",
        "print(img.shape)"
      ],
      "execution_count": 34,
      "outputs": [
        {
          "output_type": "stream",
          "text": [
            "(28, 28)\n"
          ],
          "name": "stdout"
        }
      ]
    },
    {
      "cell_type": "markdown",
      "metadata": {
        "id": "t6E0Fbc0OOz7",
        "colab_type": "text"
      },
      "source": [
        "tf.keras models are optimizwd to make predictions on a *batch* or collection of examples at once. Therefore if only using a single image it needs to be added to a list"
      ]
    },
    {
      "cell_type": "code",
      "metadata": {
        "id": "7lS3Usm5gm70",
        "colab_type": "code",
        "colab": {
          "base_uri": "https://localhost:8080/",
          "height": 34
        },
        "outputId": "63463398-d3b1-453b-ff05-d590c1522bd7"
      },
      "source": [
        "# add the image to a batch where it is the only member\n",
        "\n",
        "img = (np.expand_dims(img,0))\n",
        "\n",
        "print(img.shape)"
      ],
      "execution_count": 35,
      "outputs": [
        {
          "output_type": "stream",
          "text": [
            "(1, 28, 28)\n"
          ],
          "name": "stdout"
        }
      ]
    },
    {
      "cell_type": "markdown",
      "metadata": {
        "id": "hP0KSptshC-4",
        "colab_type": "text"
      },
      "source": [
        "now predict the correct label for this image"
      ]
    },
    {
      "cell_type": "code",
      "metadata": {
        "id": "fsA0jMJohGUZ",
        "colab_type": "code",
        "colab": {
          "base_uri": "https://localhost:8080/",
          "height": 51
        },
        "outputId": "7c54456d-0cf4-4b6d-f678-3e696f760ff7"
      },
      "source": [
        "predictions_single = model.predict(img)\n",
        "\n",
        "print(predictions_single)"
      ],
      "execution_count": 36,
      "outputs": [
        {
          "output_type": "stream",
          "text": [
            "[[3.0770432e-05 9.8440535e-12 9.8207778e-01 9.0864360e-10 1.6027233e-02\n",
            "  1.9528840e-10 1.8641981e-03 2.8881931e-16 6.8728363e-11 1.8743731e-14]]\n"
          ],
          "name": "stdout"
        }
      ]
    },
    {
      "cell_type": "code",
      "metadata": {
        "id": "2Dc5Ax8OhRcs",
        "colab_type": "code",
        "colab": {
          "base_uri": "https://localhost:8080/",
          "height": 301
        },
        "outputId": "8a4974aa-1f7d-48b4-c415-8eda5d5f1eb7"
      },
      "source": [
        "plot_value_array(1, predictions_single[0], test_labels) \n",
        "_ = plt.xticks(range(10), class_names, rotation=45)"
      ],
      "execution_count": 37,
      "outputs": [
        {
          "output_type": "display_data",
          "data": {
            "image/png": "[encoded data removed]",
            "text/plain": [
              "<Figure size 432x288 with 1 Axes>"
            ]
          },
          "metadata": {
            "tags": []
          }
        }
      ]
    },
    {
      "cell_type": "markdown",
      "metadata": {
        "id": "NFN2RQwfh8X3",
        "colab_type": "text"
      },
      "source": [
        "model.predict returns a list of lists, one list for each image in the batch of data.\n",
        "Grab the predictions for our (only) image in the batch."
      ]
    },
    {
      "cell_type": "code",
      "metadata": {
        "id": "IiNm9qVziM4Q",
        "colab_type": "code",
        "colab": {
          "base_uri": "https://localhost:8080/",
          "height": 34
        },
        "outputId": "a5cdbe08-b5de-46bc-cbdc-b1b565cfe0cc"
      },
      "source": [
        "np.argmax(predictions_single[0])"
      ],
      "execution_count": 38,
      "outputs": [
        {
          "output_type": "execute_result",
          "data": {
            "text/plain": [
              "2"
            ]
          },
          "metadata": {
            "tags": []
          },
          "execution_count": 38
        }
      ]
    }
  ]
}